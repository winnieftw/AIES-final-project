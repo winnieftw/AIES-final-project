{
 "cells": [
  {
   "cell_type": "markdown",
   "id": "b1f73749",
   "metadata": {},
   "source": [
    "link to dataset site: \n",
    "https://archive.ics.uci.edu/dataset/936/national+poll+on+healthy+aging+(npha)"
   ]
  },
  {
   "cell_type": "markdown",
   "id": "daf8682f",
   "metadata": {},
   "source": [
    "# Step 2: Explore the Dataset"
   ]
  },
  {
   "cell_type": "code",
   "execution_count": null,
   "id": "57bd8494",
   "metadata": {},
   "outputs": [],
   "source": [
    "#@title Install the What-If Tool widget if running in colab {display-mode: \"form\"}\n",
    "\n",
    "#Below are the installs required\n",
    "#!pip install --upgrade witwidget\n",
    "#!pip install tensorflow==2.15\n",
    "#!pip install protobuf==3.20.*\n",
    "#!pip install ucimlrepo\n",
    "#!pip install aif360\n",
    "#!pip install BlackBoxAuditing\n",
    "\n",
    "#import google.colab\n",
    "\n",
    "import pandas as pd\n",
    "import numpy as np\n",
    "\n",
    "\n",
    "filepath = \"NPHA-doctor-visits.csv\"\n",
    "df = pd.read_csv(filepath)\n",
    "\n",
    "df"
   ]
  },
  {
   "cell_type": "markdown",
   "id": "6a66878c",
   "metadata": {},
   "source": [
    "## Step 2.1"
   ]
  },
  {
   "cell_type": "code",
   "execution_count": null,
   "id": "c1891178",
   "metadata": {},
   "outputs": [],
   "source": [
    "gender_subgroups = df[\"Gender\"].value_counts().sort_index()\n",
    "race_subgroups = df[\"Race\"].value_counts().sort_index()\n",
    "age_values = df[\"Age\"].value_counts().sort_index()\n",
    "\n",
    "print(f'Gender subgroups: {gender_subgroups}\\n')\n",
    "print(f'Race subgroups: {race_subgroups}\\n')\n",
    "# print(f'Age range:\\nMin Age {age_values.min()}\\nMax Age: {age_values.max()}')\n",
    "print(F'Age Groups: {age_values}')"
   ]
  },
  {
   "cell_type": "markdown",
   "id": "7b5626ad",
   "metadata": {},
   "source": [
    "## 2.2"
   ]
  },
  {
   "cell_type": "code",
   "execution_count": null,
   "id": "5bfef153",
   "metadata": {},
   "outputs": [],
   "source": [
    "gender_mapping = {1: \"Male\", 2: \"Female\"}\n",
    "race_mapping = {\n",
    "    1: \"White, non-Hispanic\",\n",
    "    2: \"Black, non-Hispanic\",\n",
    "    3: \"Other, non-Hispanic\",\n",
    "    4: \"Hispanic\",\n",
    "    5: \"2+ Races, Non-Hispanic\"\n",
    "}\n",
    "age_mapping = {\n",
    "    1: \"50-64\",\n",
    "    2: \"65-80\"\n",
    "}"
   ]
  },
  {
   "cell_type": "markdown",
   "id": "2250bf78",
   "metadata": {},
   "source": [
    "## 2.4"
   ]
  },
  {
   "cell_type": "code",
   "execution_count": null,
   "id": "7d01799e",
   "metadata": {},
   "outputs": [],
   "source": [
    "gender_doctors_table = pd.crosstab(df[\"Gender\"], df[\"Number of Doctors Visited\"])\n",
    "print(\"Gender vs. Number of Doctors Visited\")\n",
    "print(gender_doctors_table)\n"
   ]
  },
  {
   "cell_type": "code",
   "execution_count": null,
   "id": "77c62256",
   "metadata": {},
   "outputs": [],
   "source": [
    "gender_meds_table = pd.crosstab(df[\"Gender\"], df[\"Prescription Sleep Medication\"])\n",
    "print(\"\\nGender vs. Prescription Sleep Medication\")\n",
    "print(gender_meds_table)\n"
   ]
  },
  {
   "cell_type": "code",
   "execution_count": null,
   "id": "3b884306",
   "metadata": {},
   "outputs": [],
   "source": [
    "race_doctors_table = pd.crosstab(df[\"Race\"], df[\"Number of Doctors Visited\"])\n",
    "print(\"\\nRace vs. Number of Doctors Visited\")\n",
    "print(race_doctors_table)\n"
   ]
  },
  {
   "cell_type": "code",
   "execution_count": null,
   "id": "4588b4a0",
   "metadata": {},
   "outputs": [],
   "source": [
    "race_meds_table = pd.crosstab(df[\"Race\"], df[\"Prescription Sleep Medication\"])\n",
    "print(\"\\nRace vs. Prescription Sleep Medication\")\n",
    "print(race_meds_table)\n"
   ]
  },
  {
   "cell_type": "markdown",
   "id": "29bd7892",
   "metadata": {},
   "source": [
    "## 2.5"
   ]
  },
  {
   "cell_type": "code",
   "execution_count": null,
   "id": "d7b9429f",
   "metadata": {},
   "outputs": [],
   "source": [
    "import matplotlib.pyplot as plt\n",
    "import seaborn as sns\n",
    "\n",
    "# Gender vs Doctors Visited\n",
    "plt.figure(figsize=(10, 6))\n",
    "sns.countplot(data=df, x=\"Number of Doctors Visited\", hue=\"Gender\")\n",
    "plt.xlabel(\"Number of Doctors Visited\")\n",
    "plt.title(\"Number of Doctors Visited by Gender\")\n",
    "plt.ylabel(\"Count\")\n",
    "plt.legend(title=\"Gender\")\n",
    "plt.tight_layout()\n",
    "plt.show()\n"
   ]
  },
  {
   "cell_type": "code",
   "execution_count": null,
   "id": "0cc03123",
   "metadata": {},
   "outputs": [],
   "source": [
    "plt.figure(figsize=(10, 6))\n",
    "sns.countplot(data=df, x=\"Prescription Sleep Medication\", hue=\"Gender\")\n",
    "plt.xlabel(\"Sleep Medication Level\")\n",
    "plt.ylabel(\"Count\")\n",
    "plt.title(\"Prescription Sleep Medication by Gender\")\n",
    "plt.legend(title=\"Gender\")\n",
    "plt.tight_layout()\n",
    "plt.show()\n"
   ]
  },
  {
   "cell_type": "code",
   "execution_count": null,
   "id": "c921533e",
   "metadata": {},
   "outputs": [],
   "source": [
    "plt.figure(figsize=(10, 6))\n",
    "sns.countplot(data=df, x=\"Number of Doctors Visited\", hue=\"Race\")\n",
    "plt.title(\"Number of Doctors Visited by Race\")\n",
    "plt.ylabel(\"Count\")\n",
    "plt.legend(title=\"Race\")\n",
    "plt.xlabel(\"Number of Doctors Visited\")\n",
    "plt.tight_layout()\n",
    "plt.show()\n"
   ]
  },
  {
   "cell_type": "code",
   "execution_count": null,
   "id": "ee7e7115",
   "metadata": {},
   "outputs": [],
   "source": [
    "plt.figure(figsize=(10, 6))\n",
    "sns.countplot(data=df, x=\"Prescription Sleep Medication\", hue=\"Race\")\n",
    "plt.title(\"Prescription Sleep Medication by Race\")\n",
    "plt.ylabel(\"Count\")\n",
    "plt.legend(title=\"Race\")\n",
    "plt.xlabel(\"Sleep Medication Level\")\n",
    "plt.tight_layout()\n",
    "plt.show()\n"
   ]
  },
  {
   "cell_type": "code",
   "execution_count": null,
   "id": "ddaf5299",
   "metadata": {},
   "outputs": [],
   "source": [
    "# Below are help functions from WIT Model Comparison https://pair-code.github.io/what-if-tool/get-started/\n",
    "\n",
    "import pandas as pd\n",
    "import numpy as np\n",
    "import tensorflow as tf\n",
    "import functools\n",
    "\n",
    "# Creates a tf feature spec from the dataframe and columns specified.\n",
    "def create_feature_spec(df, columns=None):\n",
    "    feature_spec = {}\n",
    "    if columns == None:\n",
    "        columns = df.columns.values.tolist()\n",
    "    for f in columns:\n",
    "        if df[f].dtype is np.dtype(np.int64):\n",
    "            feature_spec[f] = tf.io.FixedLenFeature(shape=(), dtype=tf.int64)\n",
    "        elif df[f].dtype is np.dtype(np.float64):\n",
    "            feature_spec[f] = tf.io.FixedLenFeature(shape=(), dtype=tf.float32)\n",
    "        else:\n",
    "            feature_spec[f] = tf.io.FixedLenFeature(shape=(), dtype=tf.string)\n",
    "    return feature_spec\n",
    "\n",
    "# Creates simple numeric and categorical feature columns from a feature spec and a\n",
    "# list of columns from that spec to use.\n",
    "#\n",
    "# NOTE: Models might perform better with some feature engineering such as bucketed\n",
    "# numeric columns and hash-bucket/embedding columns for categorical features.\n",
    "def create_feature_columns(columns, feature_spec):\n",
    "    ret = []\n",
    "    for col in columns:\n",
    "        if feature_spec[col].dtype is tf.int64 or feature_spec[col].dtype is tf.float32:\n",
    "            ret.append(tf.feature_column.numeric_column(col))\n",
    "        else:\n",
    "            ret.append(tf.feature_column.indicator_column(\n",
    "                tf.feature_column.categorical_column_with_vocabulary_list(col, list(df[col].unique()))))\n",
    "    return ret\n",
    "\n",
    "# An input function for providing input to a model from tf.Examples\n",
    "def tfexamples_input_fn(examples, feature_spec, label, mode=tf.estimator.ModeKeys.EVAL,\n",
    "                       num_epochs=None, \n",
    "                       batch_size=64):\n",
    "    def ex_generator():\n",
    "        for i in range(len(examples)):\n",
    "            yield examples[i].SerializeToString()\n",
    "    dataset = tf.data.Dataset.from_generator(\n",
    "      ex_generator, tf.dtypes.string, tf.TensorShape([]))\n",
    "    if mode == tf.estimator.ModeKeys.TRAIN:\n",
    "        dataset = dataset.shuffle(buffer_size=2 * batch_size + 1)\n",
    "    dataset = dataset.batch(batch_size)\n",
    "    dataset = dataset.map(lambda tf_example: parse_tf_example(tf_example, label, feature_spec))\n",
    "    dataset = dataset.repeat(num_epochs)\n",
    "    return dataset\n",
    "\n",
    "# Parses Tf.Example protos into features for the input function.\n",
    "def parse_tf_example(example_proto, label, feature_spec):\n",
    "    parsed_features = tf.io.parse_example(serialized=example_proto, features=feature_spec)\n",
    "    target = parsed_features.pop(label)\n",
    "    return parsed_features, target\n",
    "\n",
    "# Converts a dataframe into a list of tf.Example protos.\n",
    "def df_to_examples(df, columns=None):\n",
    "    examples = []\n",
    "    if columns == None:\n",
    "        columns = df.columns.values.tolist()\n",
    "    for index, row in df.iterrows():\n",
    "        example = tf.train.Example()\n",
    "        for col in columns:\n",
    "            if df[col].dtype is np.dtype(np.int64):\n",
    "                example.features.feature[col].int64_list.value.append(int(row[col]))\n",
    "            elif df[col].dtype is np.dtype(np.float64):\n",
    "                example.features.feature[col].float_list.value.append(row[col])\n",
    "            elif row[col] == row[col]:\n",
    "                example.features.feature[col].bytes_list.value.append(row[col].encode('utf-8'))\n",
    "        examples.append(example)\n",
    "    return examples\n",
    "\n",
    "# Converts a dataframe column into a column of 0's and 1's based on the provided test.\n",
    "# Used to force label columns to be numeric for binary classification using a TF estimator.\n",
    "def make_label_column_numeric(df, label_column, test):\n",
    "  df[label_column] = np.where(test(df[label_column]), 1, 0)\n",
    "\n",
    "# Disparate Impact Remover from https://www.kaggle.com/code/mohammadbolandraftar/bias-mitigation-disparate-impact-remover-aif360\n",
    "\n",
    "from aif360.algorithms.preprocessing import DisparateImpactRemover\n",
    "from aif360.datasets import BinaryLabelDataset, Dataset\n",
    "from aif360.metrics import BinaryLabelDatasetMetric\n",
    "\n",
    "def apply_dir(rep_lev, bin_label_data):\n",
    "    di_remover = DisparateImpactRemover(repair_level=rep_lev)\n",
    "    binary_label_dataset_transformed = di_remover.fit_transform(bin_label_data)\n",
    "    df_transformed = binary_label_dataset_transformed.convert_to_dataframe()[0] # create the transformed dataframe\n",
    "    return df_transformed"
   ]
  },
  {
   "cell_type": "code",
   "execution_count": null,
   "id": "5322162e",
   "metadata": {},
   "outputs": [],
   "source": [
    "#@title Read training dataset from CSV {display-mode: \"form\"}\n",
    "\n",
    "import pandas as pd\n",
    "\n",
    "from ucimlrepo import fetch_ucirepo\n",
    "\n",
    "# fetch dataset\n",
    "csv_path = \"NPHA-doctor-visits1.csv\"\n",
    "\n",
    "# Set the path to the CSV containing the dataset to train on.\n",
    "#csv_path = 'https://archive.ics.uci.edu/ml/machine-learning-databases/adult/adult.data'\n",
    "\n",
    "# Set the column names for the columns in the CSV. If the CSV's first line is a header line containing\n",
    "# the column names, then set this to None.\n",
    "#csv_columns = [\n",
    "#  \"Age\", \"Workclass\", \"fnlwgt\", \"Education\", \"Education-Num\", \"Marital-Status\",\n",
    "#  \"Occupation\", \"Relationship\", \"Race\", \"Sex\", \"Capital-Gain\", \"Capital-Loss\",\n",
    "#  \"Hours-per-week\", \"Country\", \"Over-50K\"]\n",
    "\n",
    "csv_columns = ['Age','Physical-Health','Mental-Health','Dental-Health','Employment','Stress-Keeps-Patient-from-Sleeping','Medication-Keeps-Patient-from-Sleeping','Pain-Keeps-Patient-from-Sleeping','Bathroom-Needs-Keeps-Patient-from-Sleeping','Uknown-Keeps-Patient-from-Sleeping','Trouble-Sleeping','Prescription-Sleep-Medication','Race','Gender']\n",
    "\n",
    "# Read the dataset from the provided CSV and print out information about it.\n",
    "df = pd.read_csv(csv_path, names=csv_columns, skipinitialspace=True)\n",
    "\n",
    "df\n"
   ]
  },
  {
   "cell_type": "code",
   "execution_count": null,
   "id": "20ea6dba",
   "metadata": {},
   "outputs": [],
   "source": [
    "#@title Specify input columns and column to predict {display-mode: \"form\"}\n",
    "import numpy as np\n",
    "\n",
    "# Set the column in the dataset you wish for the model to predict\n",
    "#label_column = 'Over-50K'\n",
    "\n",
    "label_column = 'Physical-Health'\n",
    "\n",
    "# Make the label column numeric (0 and 1), for use in our model.\n",
    "# In this case, examples with a target value of '>50K' are considered to be in\n",
    "# the '1' (positive) class and all other examples are considered to be in the\n",
    "# '0' (negative) class.\n",
    "make_label_column_numeric(df, label_column, lambda val: val>3)\n",
    "\n",
    "# Set list of all columns from the dataset we will use for model input.\n",
    "#input_features = [\n",
    "#  'Age', 'Workclass', 'Education', 'Marital-Status', 'Occupation',\n",
    "#  'Relationship', 'Race', 'Sex', 'Capital-Gain', 'Capital-Loss',\n",
    "#  'Hours-per-week', 'Country']\n",
    "\n",
    "input_features = ['Age','Dental-Health','Mental-Health','Employment','Stress-Keeps-Patient-from-Sleeping','Medication-Keeps-Patient-from-Sleeping','Pain-Keeps-Patient-from-Sleeping','Bathroom-Needs-Keeps-Patient-from-Sleeping','Uknown-Keeps-Patient-from-Sleeping','Trouble-Sleeping','Prescription-Sleep-Medication','Race','Gender']\n",
    "\n",
    "# Create a list containing all input features and the label column\n",
    "features_and_labels = input_features + [label_column]\n",
    "\n",
    "# Convert DataFrame to BinaryLabelDataset\n",
    "binary_label_dataset = BinaryLabelDataset(df=df, # Our goal is to transform the df dataset\n",
    "                                        label_names=['Physical-Health'],\n",
    "                                        protected_attribute_names=['Gender', 'Race'],\n",
    "                                        favorable_label=0, # non-default\n",
    "                                        unfavorable_label=1, # default label\n",
    "                                        )\n",
    "\n",
    "df_transformed = apply_dir(0.9, binary_label_dataset) # repair_level=0.9\n",
    "\n",
    "df_transformed = df_transformed.astype(int)\n",
    "df_transformed\n",
    "\n",
    "df_transformed\n",
    "     "
   ]
  },
  {
   "cell_type": "code",
   "execution_count": null,
   "id": "f713cc05",
   "metadata": {},
   "outputs": [],
   "source": [
    "#@title Convert dataset to tf.Example protos {display-mode: \"form\"}\n",
    "\n",
    "examples = df_to_examples(df_transformed)"
   ]
  },
  {
   "cell_type": "code",
   "execution_count": null,
   "id": "40fab0be",
   "metadata": {},
   "outputs": [],
   "source": [
    "\n",
    "#@title Create and train the linear classifier {display-mode: \"form\"}\n",
    "\n",
    "num_steps = 2000  #@param {type: \"number\"}\n",
    "\n",
    "# Create a feature spec for the classifier\n",
    "feature_spec = create_feature_spec(df_transformed, features_and_labels)\n",
    "\n",
    "# Define and train the classifier\n",
    "train_inpf = functools.partial(tfexamples_input_fn, examples, feature_spec, label_column)\n",
    "classifier = tf.estimator.LinearClassifier(\n",
    "    feature_columns=create_feature_columns(input_features, feature_spec))\n",
    "classifier.train(train_inpf, steps=num_steps)"
   ]
  },
  {
   "cell_type": "code",
   "execution_count": null,
   "id": "eb02e109",
   "metadata": {},
   "outputs": [],
   "source": [
    "\n",
    "#@title Create and train the DNN classifier {display-mode: \"form\"}\n",
    "num_steps_2 = 2000  #@param {type: \"number\"}\n",
    "\n",
    "classifier2 = tf.estimator.DNNClassifier(\n",
    "    feature_columns=create_feature_columns(input_features, feature_spec),\n",
    "    hidden_units=[128, 64, 32])\n",
    "classifier2.train(train_inpf, steps=num_steps_2)"
   ]
  },
  {
   "cell_type": "code",
   "execution_count": null,
   "id": "31abba85",
   "metadata": {},
   "outputs": [],
   "source": [
    "\n",
    "#@title Invoke What-If Tool for test data and the trained models {display-mode: \"form\"}\n",
    "\n",
    "num_datapoints = 2000  #@param {type: \"number\"}\n",
    "tool_height_in_px = 1000  #@param {type: \"number\"}\n",
    "\n",
    "from witwidget.notebook.visualization import WitConfigBuilder\n",
    "from witwidget.notebook.visualization import WitWidget\n",
    "\n",
    "# Load up the test dataset\n",
    "test_csv_path = 'NPHA-doctor-visits1.csv'\n",
    "#test_df = pd.read_csv(test_csv_path, names=csv_columns, skipinitialspace=True,\n",
    "  #skiprows=1)\n",
    "test_df = df_transformed\n",
    "make_label_column_numeric(test_df, label_column, lambda val: val>3)\n",
    "test_examples = df_to_examples(test_df[0:num_datapoints])\n",
    "\n",
    "# Setup the tool with the test examples and the trained classifier\n",
    "config_builder = WitConfigBuilder(test_examples[0:num_datapoints]).set_estimator_and_feature_spec(\n",
    "    classifier, feature_spec).set_compare_estimator_and_feature_spec(\n",
    "    classifier2, feature_spec)\n",
    "a = WitWidget(config_builder, height=tool_height_in_px)"
   ]
  }
 ],
 "metadata": {
  "kernelspec": {
   "display_name": "Python 3",
   "language": "python",
   "name": "python3"
  },
  "language_info": {
   "codemirror_mode": {
    "name": "ipython",
    "version": 3
   },
   "file_extension": ".py",
   "mimetype": "text/x-python",
   "name": "python",
   "nbconvert_exporter": "python",
   "pygments_lexer": "ipython3",
   "version": "3.12.0"
  }
 },
 "nbformat": 4,
 "nbformat_minor": 5
}
